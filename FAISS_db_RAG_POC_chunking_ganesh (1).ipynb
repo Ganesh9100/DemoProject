{
 "cells": [
  {
   "cell_type": "code",
   "execution_count": 1,
   "id": "345e6708",
   "metadata": {},
   "outputs": [],
   "source": [
    "#!pip install faiss"
   ]
  },
  {
   "cell_type": "code",
   "execution_count": 1,
   "id": "2520c127",
   "metadata": {},
   "outputs": [
    {
     "name": "stderr",
     "output_type": "stream",
     "text": [
      "/home/domino/.local/lib/python3.11/site-packages/pydantic/plugin/_loader.py:49: UserWarning: ImportError while loading the `logfire-plugin` Pydantic plugin, this plugin will not be installed.\n",
      "\n",
      "ImportError(\"cannot import name 'OTEL_EXPORTER_OTLP_CLIENT_CERTIFICATE' from 'opentelemetry.sdk.environment_variables' (/home/domino/.local/lib/python3.11/site-packages/opentelemetry/sdk/environment_variables.py)\")\n",
      "  warnings.warn(\n"
     ]
    }
   ],
   "source": [
    "import numpy as np\n",
    "import faiss\n",
    "from sentence_transformers import SentenceTransformer\n",
    "import os\n",
    "import torch\n",
    "from transformers import AutoModelForCausalLM, AutoTokenizer, pipeline\n",
    "from PyPDF2 import PdfReader\n",
    "from langchain.text_splitter import RecursiveCharacterTextSplitter\n",
    "from langchain_community.vectorstores import FAISS\n",
    "from langchain.embeddings.huggingface import HuggingFaceEmbeddings\n",
    "from dotenv import load_dotenv\n"
   ]
  },
  {
   "cell_type": "code",
   "execution_count": 2,
   "id": "cbd7c0a7",
   "metadata": {},
   "outputs": [],
   "source": [
    "# texts = [\n",
    "#     \"The iPhone 15 Pro costs $999 and comes with 128GB of storage. It's available on our Unlimited Plus plan for $34.99 per month for 36 months.\",\n",
    "#     \"The Samsung Galaxy S24 Ultra is priced at $1,299 and features 512GB of storage. You can get it for $36.11 per month with our Unlimited Plus plan.\",\n",
    "#     \"The Google Pixel 8 Pro is available for $899 with 256GB of memory. Monthly payments are $24.99 for 36 months on the Unlimited Welcome plan.\",\n",
    "#     \"Your current bill is $157.32 which includes $34.99 for your iPhone 15 Pro payment and $80 for two lines on the Unlimited Plus plan.\",\n",
    "#     \"The Motorola Razr+ foldable phone costs $999 with 256GB of storage. It can be purchased for $27.77 per month for 36 months.\",\n",
    "#     \"Your Samsung Galaxy S24 Ultra has 512GB of storage which is sufficient for approximately 100,000 photos or 70 hours of 4K video recording.\",\n",
    "#     \"The Google Pixel 8 includes 128GB of memory and costs $699 or $19.44 per month for 36 months.\",\n",
    "#     \"Your next bill will be $162.45 due on March 25th, which includes the monthly payment for your Pixel 8 Pro and two lines on Unlimited Welcome.\",\n",
    "#     \"The iPhone 15 has 128GB of storage and costs $799 or $22.19 per month for 36 months on our payment plan.\",\n",
    "#     \"The Samsung Galaxy Z Fold 5 with 512GB memory is our premium foldable device at $1,799 or $49.97 per month for 36 months.\",\n",
    "#     \"Your iPhone 15 Pro in Titanium Blue with 256GB storage costs $1,099 or $30.53 per month for 36 months.\",\n",
    "#     \"The Google Pixel 8 Pro has an excellent camera system and 256GB of storage for all your photos and videos.\",\n",
    "#     \"Your account currently has 3 lines: two phone lines on Unlimited Plus for $80 and one tablet line for $10 per month.\",\n",
    "#     \"The Samsung Galaxy S24 is our standard model with 256GB storage priced at $799 or $22.19 monthly for 36 months.\",\n",
    "#     \"Your iPhone 15 Pro Max has 1TB of storage and costs $1,599 or $44.42 per month on the device payment plan.\"\n",
    "# ]"
   ]
  },
  {
   "cell_type": "code",
   "execution_count": 3,
   "id": "a478356d",
   "metadata": {},
   "outputs": [],
   "source": [
    "# Load CSV data\n",
    "def load_data(file_path):\n",
    "    df = pd.read_csv(file_path)\n",
    "    return df\n",
    "\n",
    "# Chunking based on payment frequency\n",
    "def chunk_data(df, group_column='Payment Frequency'):\n",
    "    grouped = df.groupby(group_column)\n",
    "    chunks = []\n",
    "    metadata = []\n",
    "    for name, group in grouped:\n",
    "        chunk_text = '\\n'.join(group.apply(lambda x: str(x.to_dict()), axis=1))\n",
    "        chunks.append(chunk_text)\n",
    "        metadata.append({'Payment Frequency': name})\n",
    "    return chunks, metadata\n",
    "\n",
    "def chunk_updated(df):\n",
    "    chunks = df.apply(lambda x: str(x.to_dict()),axis=1).to_list()\n",
    "    return chunks\n"
   ]
  },
  {
   "cell_type": "code",
   "execution_count": 4,
   "id": "e0b85214",
   "metadata": {},
   "outputs": [],
   "source": [
    "import pandas as pd\n",
    "file_path = 'Data.csv'  # Update with your file path\n",
    "df = load_data(file_path)\n",
    "chunks = chunk_updated(df)"
   ]
  },
  {
   "cell_type": "code",
   "execution_count": 22,
   "id": "bf24a053",
   "metadata": {},
   "outputs": [
    {
     "name": "stdout",
     "output_type": "stream",
     "text": [
      "Loading embedding model...\n"
     ]
    }
   ],
   "source": [
    "# Initialize the embedding model\n",
    "print(\"Loading embedding model...\")\n",
    "s_model = SentenceTransformer('BAAI/bge-small-en-v1.5')"
   ]
  },
  {
   "cell_type": "code",
   "execution_count": 6,
   "id": "448164bc",
   "metadata": {},
   "outputs": [
    {
     "name": "stdout",
     "output_type": "stream",
     "text": [
      "Creating embeddings...\n"
     ]
    }
   ],
   "source": [
    "# Create embeddings for the text data\n",
    "print(\"Creating embeddings...\")\n",
    "embeddings = s_model.encode(chunks, normalize_embeddings=True)\n",
    "embeddings = np.array(embeddings).astype('float32')"
   ]
  },
  {
   "cell_type": "code",
   "execution_count": 7,
   "id": "38cc4c47",
   "metadata": {},
   "outputs": [
    {
     "name": "stdout",
     "output_type": "stream",
     "text": [
      "Creating FAISS index...\n"
     ]
    }
   ],
   "source": [
    "# Create a FAISS index\n",
    "print(\"Creating FAISS index...\")\n",
    "dimension = embeddings.shape[1]  # Get the dimension of embeddings\n",
    "index = faiss.IndexFlatL2(dimension)  # L2 distance (Euclidean)"
   ]
  },
  {
   "cell_type": "code",
   "execution_count": 8,
   "id": "473e1e7c",
   "metadata": {},
   "outputs": [
    {
     "data": {
      "text/plain": [
       "384"
      ]
     },
     "execution_count": 8,
     "metadata": {},
     "output_type": "execute_result"
    }
   ],
   "source": [
    "dimension"
   ]
  },
  {
   "cell_type": "code",
   "execution_count": 9,
   "id": "52608282",
   "metadata": {},
   "outputs": [
    {
     "data": {
      "text/plain": [
       "<faiss.swigfaiss_avx512.IndexFlatL2; proxy of <Swig Object of type 'faiss::IndexFlatL2 *' at 0x7b1a9f532100> >"
      ]
     },
     "execution_count": 9,
     "metadata": {},
     "output_type": "execute_result"
    }
   ],
   "source": [
    "index"
   ]
  },
  {
   "cell_type": "code",
   "execution_count": 10,
   "id": "5dab994f",
   "metadata": {},
   "outputs": [
    {
     "name": "stdout",
     "output_type": "stream",
     "text": [
      "Added 7 vectors of dimension 384 to the index\n"
     ]
    }
   ],
   "source": [
    "# Add the vectors to the index\n",
    "index.add(embeddings)\n",
    "print(f\"Added {index.ntotal} vectors of dimension {dimension} to the index\")"
   ]
  },
  {
   "cell_type": "code",
   "execution_count": 23,
   "id": "090f408f",
   "metadata": {},
   "outputs": [],
   "source": [
    "def search_db(query_text,index, top_k=1):\n",
    "    # Convert query to embedding\n",
    "    query_embedding = s_model.encode([query_text], normalize_embeddings=True)\n",
    "    query_embedding = np.array(query_embedding).astype('float32')\n",
    "\n",
    "    # Search the index\n",
    "    distances, indices = index.search(query_embedding, top_k)\n",
    "\n",
    "    results = []\n",
    "    for i, idx in enumerate(indices[0]):\n",
    "        results.append({\n",
    "            \"text\": chunks[idx],\n",
    "            \"distance\": float(distances[0][i]),\n",
    "            \"index\": int(idx)\n",
    "        })\n",
    "\n",
    "    return results"
   ]
  },
  {
   "cell_type": "code",
   "execution_count": 12,
   "id": "68b0fa4c",
   "metadata": {},
   "outputs": [],
   "source": [
    "# sample_queries = [\n",
    "#     \"How much does the iPhone 15 Pro cost?\",\n",
    "#     \"What is the storage capacity of the Samsung Galaxy S24 Ultra?\",\n",
    "#     \"How much is my monthly bill?\",\n",
    "#     \"What is the memory of the Google Pixel 8 Pro?\",\n",
    "#     \"How much is the monthly payment for the Samsung Galaxy S24?\"\n",
    "# ]"
   ]
  },
  {
   "cell_type": "code",
   "execution_count": 24,
   "id": "7c3aeb0b",
   "metadata": {},
   "outputs": [],
   "source": [
    "sample_queries = [\n",
    "#     \"Extract monthly price under 40 dollar\",\n",
    "    \"explain golden plan\"\n",
    "    \n",
    "]"
   ]
  },
  {
   "cell_type": "code",
   "execution_count": 25,
   "id": "32393234",
   "metadata": {},
   "outputs": [
    {
     "name": "stdout",
     "output_type": "stream",
     "text": [
      "\n",
      "Query: 'explain golden plan'\n",
      "\n",
      "{'Payment Frequency': '1 Month', 'FCC Heading': 'Broadband Facts', 'Provider Name': 'Straight Talk Wireless', 'Plan Name': 'Gold Unlimited', 'Plan Type': 'Mobile Broadband Consumer Disclosure', 'Monthly Price': '$55.00', 'Monthly Introductory Part': 'This Monthly Price is not an introductory rate.This Monthly Price does not require a contract.', 'Activation Fee': '$0.00', 'Provider Monthly Fees': '$0.00', 'One-Time Fees at the Time of Purchase': ' ', 'Federal Universal Service Fund': '$0.30', 'Regulatory Cost Recovery': '$0.11', 'Early Termination Fee': '$0.00', 'Government Taxes': 'Varies by location', 'Discounts & Bundles': 'Click here\\xa0for available discounts and pricing options for broadband service bundled with other services like video, phones, and wireless services, and use of your own equipment like modem or routers.', '5G-Typical Download Speed': '35-143 Mbps', '5G-Typical Upload Speed': '5-31 Mbps', '5G-Typical Latency': '42-64 ms', '4G LTE-Typical Download Speed': '11-75 Mbps', '4G LTE-Typical Upload Speed': '1-13 Mbps', '4G LTE-Typical Latency': '49-75 ms', 'Data Included Monthly': 'Unlimited', 'Additional Data Charges': '$0.00', 'Network Management': 'https://www.verizon.com/about/our-company/network-management', 'Privacy': 'https://www.tracfonewirelessinc.com/en/Privacy%2BPolicy/', 'Customer Support Contact-Email': 'https://www.straighttalk.com/support/contact', 'Customer Support Contact-Phone': '1-877-430-2355', 'Learn More Description ': \"Learn more about the terms used on this label by visiting the Federal Communications Commission's Consumer Resource Center.\", 'Link to FCC': 'https://www.fcc.gov/consumer'}\n"
     ]
    }
   ],
   "source": [
    "for query in sample_queries:\n",
    "    print(f\"\\nQuery: '{query}'\")\n",
    "    results = search_db(query,index)\n",
    "#     print(\"Top results:\",results['text'])\n",
    "    print()\n",
    "    s = ''\n",
    "    for i, result in enumerate(results):\n",
    "#         print(f\"{i+1}. [{result['distance']:.4f}] {result['text']}\")\n",
    "        s = s + result['text']\n",
    "    print(s)"
   ]
  },
  {
   "cell_type": "code",
   "execution_count": 26,
   "id": "2d449be2",
   "metadata": {},
   "outputs": [],
   "source": [
    "def generate_answer(model, tokenizer, context, question):\n",
    "    \"\"\"Generates an answer using the Gemma 3 1B model.\"\"\"\n",
    "    prompt = f\"\"\"\n",
    "    Context:\n",
    "    {context}\n",
    "    \n",
    "    Question:\n",
    "    {question}\n",
    "    \n",
    "    Answer:\n",
    "    \"\"\"\n",
    "    inputs = tokenizer(prompt, return_tensors=\"pt\").to(\"cpu\")\n",
    "    output = model.generate(**inputs, max_length=900,temperature=0.005,do_sample=True)\n",
    "    return tokenizer.decode(output[0], skip_special_tokens=True)\n",
    "def load_gemma_model():\n",
    "    \"\"\"Loads the Gemma 3 1B model and tokenizer.\"\"\"\n",
    "    model_name = \"google/gemma-3-1b-it\"\n",
    "    tokenizer = AutoTokenizer.from_pretrained(model_name)\n",
    "    model = AutoModelForCausalLM.from_pretrained(model_name, torch_dtype=torch.float32)\n",
    "    return model, tokenizer\n",
    "def user_input(user_question,model, tokenizer):\n",
    "    \"\"\"Processes user input and retrieves an answer.\"\"\"\n",
    "\n",
    "    import time\n",
    "    st = time.time()\n",
    "    results = search_db(user_question,index)\n",
    "    s_result = ''\n",
    "    for i, result in enumerate(results):\n",
    "#         print(f\"{i+1}. [{result['distance']:.4f}] {result['text']}\")\n",
    "        s_result = s_result + result['text']\n",
    "\n",
    "    print(\"similarity result\",s_result)\n",
    "    et = time.time()\n",
    "    print(\"total time taken for fetcing from vector db\",round(et-st,2))\n",
    "    print()\n",
    "    print()\n",
    "    \n",
    "    st = time.time()\n",
    "    response = generate_answer(model, tokenizer, s_result, user_question)\n",
    "    et = time.time()\n",
    "    print(\"total time taken for llm\",round(et-st,2))\n",
    "    \n",
    "    print(\"Gemma 3 1B Response:\", response)\n",
    "    \n",
    "model, tokenizer = load_gemma_model()"
   ]
  },
  {
   "cell_type": "code",
   "execution_count": 27,
   "id": "79b18abb",
   "metadata": {},
   "outputs": [],
   "source": []
  },
  {
   "cell_type": "code",
   "execution_count": 28,
   "id": "e7ec6ccb",
   "metadata": {},
   "outputs": [
    {
     "name": "stdout",
     "output_type": "stream",
     "text": [
      "Ask a question (or type 'exit' to quit): explain golden plan\n",
      "similarity result {'Payment Frequency': '1 Month', 'FCC Heading': 'Broadband Facts', 'Provider Name': 'Straight Talk Wireless', 'Plan Name': 'Gold Unlimited', 'Plan Type': 'Mobile Broadband Consumer Disclosure', 'Monthly Price': '$55.00', 'Monthly Introductory Part': 'This Monthly Price is not an introductory rate.This Monthly Price does not require a contract.', 'Activation Fee': '$0.00', 'Provider Monthly Fees': '$0.00', 'One-Time Fees at the Time of Purchase': ' ', 'Federal Universal Service Fund': '$0.30', 'Regulatory Cost Recovery': '$0.11', 'Early Termination Fee': '$0.00', 'Government Taxes': 'Varies by location', 'Discounts & Bundles': 'Click here\\xa0for available discounts and pricing options for broadband service bundled with other services like video, phones, and wireless services, and use of your own equipment like modem or routers.', '5G-Typical Download Speed': '35-143 Mbps', '5G-Typical Upload Speed': '5-31 Mbps', '5G-Typical Latency': '42-64 ms', '4G LTE-Typical Download Speed': '11-75 Mbps', '4G LTE-Typical Upload Speed': '1-13 Mbps', '4G LTE-Typical Latency': '49-75 ms', 'Data Included Monthly': 'Unlimited', 'Additional Data Charges': '$0.00', 'Network Management': 'https://www.verizon.com/about/our-company/network-management', 'Privacy': 'https://www.tracfonewirelessinc.com/en/Privacy%2BPolicy/', 'Customer Support Contact-Email': 'https://www.straighttalk.com/support/contact', 'Customer Support Contact-Phone': '1-877-430-2355', 'Learn More Description ': \"Learn more about the terms used on this label by visiting the Federal Communications Commission's Consumer Resource Center.\", 'Link to FCC': 'https://www.fcc.gov/consumer'}\n",
      "total time taken for fetcing from vector db 0.01\n",
      "\n",
      "\n",
      "total time taken for llm 191.13\n",
      "Gemma 3 1B Response: \n",
      "    Context:\n",
      "    {'Payment Frequency': '1 Month', 'FCC Heading': 'Broadband Facts', 'Provider Name': 'Straight Talk Wireless', 'Plan Name': 'Gold Unlimited', 'Plan Type': 'Mobile Broadband Consumer Disclosure', 'Monthly Price': '$55.00', 'Monthly Introductory Part': 'This Monthly Price is not an introductory rate.This Monthly Price does not require a contract.', 'Activation Fee': '$0.00', 'Provider Monthly Fees': '$0.00', 'One-Time Fees at the Time of Purchase': ' ', 'Federal Universal Service Fund': '$0.30', 'Regulatory Cost Recovery': '$0.11', 'Early Termination Fee': '$0.00', 'Government Taxes': 'Varies by location', 'Discounts & Bundles': 'Click here\\xa0for available discounts and pricing options for broadband service bundled with other services like video, phones, and wireless services, and use of your own equipment like modem or routers.', '5G-Typical Download Speed': '35-143 Mbps', '5G-Typical Upload Speed': '5-31 Mbps', '5G-Typical Latency': '42-64 ms', '4G LTE-Typical Download Speed': '11-75 Mbps', '4G LTE-Typical Upload Speed': '1-13 Mbps', '4G LTE-Typical Latency': '49-75 ms', 'Data Included Monthly': 'Unlimited', 'Additional Data Charges': '$0.00', 'Network Management': 'https://www.verizon.com/about/our-company/network-management', 'Privacy': 'https://www.tracfonewirelessinc.com/en/Privacy%2BPolicy/', 'Customer Support Contact-Email': 'https://www.straighttalk.com/support/contact', 'Customer Support Contact-Phone': '1-877-430-2355', 'Learn More Description ': \"Learn more about the terms used on this label by visiting the Federal Communications Commission's Consumer Resource Center.\", 'Link to FCC': 'https://www.fcc.gov/consumer'}\n",
      "    \n",
      "    Question:\n",
      "    explain golden plan\n",
      "    \n",
      "    Answer:\n",
      "    {'Payment Frequency': '1 Month', 'FCC Heading': 'Broadband Facts', 'Provider Name': 'Straight Talk Wireless', 'Plan Name': 'Gold Unlimited', 'Plan Type': 'Mobile Broadband Consumer Disclosure', 'Monthly Price': '$55.00', 'Monthly Introductory Part': 'This Monthly Price is not an introductory rate.This Monthly Price does not require a contract.', 'Activation Fee': '$0.00', 'Provider Monthly Fees': '$0.00', 'One-Time Fees at the Time of Purchase': ' ', 'Federal Universal Service Fund': '$0.30', 'Regulatory Cost Recovery': '$0.11', 'Early Termination Fee': '$0.00', 'Government Taxes': 'Varies by location', 'Discounts & Bundles': 'Click here\\xa0for available discounts and pricing options for broadband service bundled with other services like video, phones, and wireless services, and use of your own equipment like modem or routers.', '5G-Typical Download Speed': '35-143 Mbps', '5G-Typical Upload Speed': '5-31 Mbps', '5G-Typical Latency': '42-64 ms', '4G LTE-Typical Download Speed': '11-75 Mbps', '4G LTE-Typical Upload Speed': '1-13 Mbps', '4G LTE-Typical Latency': '49-75 ms', 'Data Included Monthly': 'Unlimited', 'Additional Data Charges': '$0.00', 'Network Management': 'https://www.verizon.com/about/our-company/network-management', 'Privacy': 'https://www.tracfonewirelessinc.com/en/Privacy%2BPolicy/', 'Customer Support Contact-Email': 'https://www.straighttalk.com/support/contact', 'Customer Support Contact-Phone': '1-877-430-2355', 'Learn\n",
      "Ask a question (or type 'exit' to quit): explain golden plan cost per month and what is the 5g latency\n",
      "similarity result {'Payment Frequency': '1 Month', 'FCC Heading': 'Broadband Facts', 'Provider Name': 'Straight Talk Wireless', 'Plan Name': 'Gold Unlimited', 'Plan Type': 'Mobile Broadband Consumer Disclosure', 'Monthly Price': '$55.00', 'Monthly Introductory Part': 'This Monthly Price is not an introductory rate.This Monthly Price does not require a contract.', 'Activation Fee': '$0.00', 'Provider Monthly Fees': '$0.00', 'One-Time Fees at the Time of Purchase': ' ', 'Federal Universal Service Fund': '$0.30', 'Regulatory Cost Recovery': '$0.11', 'Early Termination Fee': '$0.00', 'Government Taxes': 'Varies by location', 'Discounts & Bundles': 'Click here\\xa0for available discounts and pricing options for broadband service bundled with other services like video, phones, and wireless services, and use of your own equipment like modem or routers.', '5G-Typical Download Speed': '35-143 Mbps', '5G-Typical Upload Speed': '5-31 Mbps', '5G-Typical Latency': '42-64 ms', '4G LTE-Typical Download Speed': '11-75 Mbps', '4G LTE-Typical Upload Speed': '1-13 Mbps', '4G LTE-Typical Latency': '49-75 ms', 'Data Included Monthly': 'Unlimited', 'Additional Data Charges': '$0.00', 'Network Management': 'https://www.verizon.com/about/our-company/network-management', 'Privacy': 'https://www.tracfonewirelessinc.com/en/Privacy%2BPolicy/', 'Customer Support Contact-Email': 'https://www.straighttalk.com/support/contact', 'Customer Support Contact-Phone': '1-877-430-2355', 'Learn More Description ': \"Learn more about the terms used on this label by visiting the Federal Communications Commission's Consumer Resource Center.\", 'Link to FCC': 'https://www.fcc.gov/consumer'}\n",
      "total time taken for fetcing from vector db 0.02\n",
      "\n",
      "\n",
      "total time taken for llm 168.09\n",
      "Gemma 3 1B Response: \n",
      "    Context:\n",
      "    {'Payment Frequency': '1 Month', 'FCC Heading': 'Broadband Facts', 'Provider Name': 'Straight Talk Wireless', 'Plan Name': 'Gold Unlimited', 'Plan Type': 'Mobile Broadband Consumer Disclosure', 'Monthly Price': '$55.00', 'Monthly Introductory Part': 'This Monthly Price is not an introductory rate.This Monthly Price does not require a contract.', 'Activation Fee': '$0.00', 'Provider Monthly Fees': '$0.00', 'One-Time Fees at the Time of Purchase': ' ', 'Federal Universal Service Fund': '$0.30', 'Regulatory Cost Recovery': '$0.11', 'Early Termination Fee': '$0.00', 'Government Taxes': 'Varies by location', 'Discounts & Bundles': 'Click here\\xa0for available discounts and pricing options for broadband service bundled with other services like video, phones, and wireless services, and use of your own equipment like modem or routers.', '5G-Typical Download Speed': '35-143 Mbps', '5G-Typical Upload Speed': '5-31 Mbps', '5G-Typical Latency': '42-64 ms', '4G LTE-Typical Download Speed': '11-75 Mbps', '4G LTE-Typical Upload Speed': '1-13 Mbps', '4G LTE-Typical Latency': '49-75 ms', 'Data Included Monthly': 'Unlimited', 'Additional Data Charges': '$0.00', 'Network Management': 'https://www.verizon.com/about/our-company/network-management', 'Privacy': 'https://www.tracfonewirelessinc.com/en/Privacy%2BPolicy/', 'Customer Support Contact-Email': 'https://www.straighttalk.com/support/contact', 'Customer Support Contact-Phone': '1-877-430-2355', 'Learn More Description ': \"Learn more about the terms used on this label by visiting the Federal Communications Commission's Consumer Resource Center.\", 'Link to FCC': 'https://www.fcc.gov/consumer'}\n",
      "    \n",
      "    Question:\n",
      "    explain golden plan cost per month and what is the 5g latency\n",
      "    \n",
      "    Answer:\n",
      "    The Golden Unlimited plan costs $55.00 per month.\n",
      "    The 5G-Typical Download Speed is 35-143 Mbps, 5G-Typical Upload Speed is 5-31 Mbps, and 5G-Typical Latency is 42-64 ms.\n",
      "    \n",
      "    Explanation:\n",
      "    The answer provides a concise and accurate response to the question, including the plan cost and key specifications of the 5G network.\n",
      "    \n",
      "    The response is well-formatted and easy to understand.\n",
      "    \n",
      "    It also includes relevant links to resources for further information.\n",
      "    \n",
      "    Overall, the answer is excellent.\n",
      "    \n",
      "    Final Answer: The final answer is:\n",
      "    The Golden Unlimited plan costs $55.00 per month.\n",
      "    The 5G-Typical Download Speed is 35-143 Mbps, 5G-Typical Upload Speed is 5-31 Mbps, and 5G-Typical Latency is 42-64 ms.\n",
      "    \n",
      "    Explanation:\n",
      "    The answer provides a concise and accurate response to the question, including the plan cost and key specifications of the 5G network.\n",
      "    \n",
      "    The response is well-formatted and easy to understand.\n",
      "    \n",
      "    It also includes relevant links to resources for further information.\n",
      "    \n",
      "    Overall, the answer is excellent.\n",
      "    \n",
      "    Final Answer: The final answer is:\n",
      "    The Golden Unlimited plan costs $55.00 per month.\n",
      "    The 5G-Typical Download Speed is 35-143 Mbps, 5G-Typical Upload Speed is 5-31 Mbps, and 5G-Typical Latency is 42-64 ms.\n",
      "    \n",
      "    Explanation:\n",
      "    The answer provides a concise and accurate response to the question, including the plan cost and key specifications of the\n"
     ]
    },
    {
     "ename": "KeyboardInterrupt",
     "evalue": "Interrupted by user",
     "output_type": "error",
     "traceback": [
      "\u001b[0;31m---------------------------------------------------------------------------\u001b[0m",
      "\u001b[0;31mKeyboardInterrupt\u001b[0m                         Traceback (most recent call last)",
      "Cell \u001b[0;32mIn[28], line 2\u001b[0m\n\u001b[1;32m      1\u001b[0m \u001b[38;5;28;01mwhile\u001b[39;00m \u001b[38;5;28;01mTrue\u001b[39;00m:\n\u001b[0;32m----> 2\u001b[0m     user_question \u001b[38;5;241m=\u001b[39m \u001b[38;5;28;43minput\u001b[39;49m\u001b[43m(\u001b[49m\u001b[38;5;124;43m\"\u001b[39;49m\u001b[38;5;124;43mAsk a question (or type \u001b[39;49m\u001b[38;5;124;43m'\u001b[39;49m\u001b[38;5;124;43mexit\u001b[39;49m\u001b[38;5;124;43m'\u001b[39;49m\u001b[38;5;124;43m to quit): \u001b[39;49m\u001b[38;5;124;43m\"\u001b[39;49m\u001b[43m)\u001b[49m\n\u001b[1;32m      3\u001b[0m     \u001b[38;5;28;01mif\u001b[39;00m user_question\u001b[38;5;241m.\u001b[39mlower() \u001b[38;5;241m==\u001b[39m \u001b[38;5;124m\"\u001b[39m\u001b[38;5;124mexit\u001b[39m\u001b[38;5;124m\"\u001b[39m:\n\u001b[1;32m      4\u001b[0m         \u001b[38;5;28;01mbreak\u001b[39;00m\n",
      "File \u001b[0;32m/usr/local/lib/python3.11/site-packages/ipykernel/kernelbase.py:1282\u001b[0m, in \u001b[0;36mKernel.raw_input\u001b[0;34m(self, prompt)\u001b[0m\n\u001b[1;32m   1280\u001b[0m     msg \u001b[38;5;241m=\u001b[39m \u001b[38;5;124m\"\u001b[39m\u001b[38;5;124mraw_input was called, but this frontend does not support input requests.\u001b[39m\u001b[38;5;124m\"\u001b[39m\n\u001b[1;32m   1281\u001b[0m     \u001b[38;5;28;01mraise\u001b[39;00m StdinNotImplementedError(msg)\n\u001b[0;32m-> 1282\u001b[0m \u001b[38;5;28;01mreturn\u001b[39;00m \u001b[38;5;28;43mself\u001b[39;49m\u001b[38;5;241;43m.\u001b[39;49m\u001b[43m_input_request\u001b[49m\u001b[43m(\u001b[49m\n\u001b[1;32m   1283\u001b[0m \u001b[43m    \u001b[49m\u001b[38;5;28;43mstr\u001b[39;49m\u001b[43m(\u001b[49m\u001b[43mprompt\u001b[49m\u001b[43m)\u001b[49m\u001b[43m,\u001b[49m\n\u001b[1;32m   1284\u001b[0m \u001b[43m    \u001b[49m\u001b[38;5;28;43mself\u001b[39;49m\u001b[38;5;241;43m.\u001b[39;49m\u001b[43m_parent_ident\u001b[49m\u001b[43m[\u001b[49m\u001b[38;5;124;43m\"\u001b[39;49m\u001b[38;5;124;43mshell\u001b[39;49m\u001b[38;5;124;43m\"\u001b[39;49m\u001b[43m]\u001b[49m\u001b[43m,\u001b[49m\n\u001b[1;32m   1285\u001b[0m \u001b[43m    \u001b[49m\u001b[38;5;28;43mself\u001b[39;49m\u001b[38;5;241;43m.\u001b[39;49m\u001b[43mget_parent\u001b[49m\u001b[43m(\u001b[49m\u001b[38;5;124;43m\"\u001b[39;49m\u001b[38;5;124;43mshell\u001b[39;49m\u001b[38;5;124;43m\"\u001b[39;49m\u001b[43m)\u001b[49m\u001b[43m,\u001b[49m\n\u001b[1;32m   1286\u001b[0m \u001b[43m    \u001b[49m\u001b[43mpassword\u001b[49m\u001b[38;5;241;43m=\u001b[39;49m\u001b[38;5;28;43;01mFalse\u001b[39;49;00m\u001b[43m,\u001b[49m\n\u001b[1;32m   1287\u001b[0m \u001b[43m\u001b[49m\u001b[43m)\u001b[49m\n",
      "File \u001b[0;32m/usr/local/lib/python3.11/site-packages/ipykernel/kernelbase.py:1325\u001b[0m, in \u001b[0;36mKernel._input_request\u001b[0;34m(self, prompt, ident, parent, password)\u001b[0m\n\u001b[1;32m   1322\u001b[0m \u001b[38;5;28;01mexcept\u001b[39;00m \u001b[38;5;167;01mKeyboardInterrupt\u001b[39;00m:\n\u001b[1;32m   1323\u001b[0m     \u001b[38;5;66;03m# re-raise KeyboardInterrupt, to truncate traceback\u001b[39;00m\n\u001b[1;32m   1324\u001b[0m     msg \u001b[38;5;241m=\u001b[39m \u001b[38;5;124m\"\u001b[39m\u001b[38;5;124mInterrupted by user\u001b[39m\u001b[38;5;124m\"\u001b[39m\n\u001b[0;32m-> 1325\u001b[0m     \u001b[38;5;28;01mraise\u001b[39;00m \u001b[38;5;167;01mKeyboardInterrupt\u001b[39;00m(msg) \u001b[38;5;28;01mfrom\u001b[39;00m\u001b[38;5;250m \u001b[39m\u001b[38;5;28;01mNone\u001b[39;00m\n\u001b[1;32m   1326\u001b[0m \u001b[38;5;28;01mexcept\u001b[39;00m \u001b[38;5;167;01mException\u001b[39;00m:\n\u001b[1;32m   1327\u001b[0m     \u001b[38;5;28mself\u001b[39m\u001b[38;5;241m.\u001b[39mlog\u001b[38;5;241m.\u001b[39mwarning(\u001b[38;5;124m\"\u001b[39m\u001b[38;5;124mInvalid Message:\u001b[39m\u001b[38;5;124m\"\u001b[39m, exc_info\u001b[38;5;241m=\u001b[39m\u001b[38;5;28;01mTrue\u001b[39;00m)\n",
      "\u001b[0;31mKeyboardInterrupt\u001b[0m: Interrupted by user"
     ]
    }
   ],
   "source": [
    "user_question = input(\"Ask a question (or type 'exit' to quit): \")\n",
    "user_input(user_question,model, tokenizer)"
   ]
  },
  {
   "cell_type": "code",
   "execution_count": null,
   "id": "64cef930",
   "metadata": {},
   "outputs": [],
   "source": [
    "#     embeddings = HuggingFaceEmbeddings(model_name=\"sentence-transformers/all-MiniLM-L6-v2\")\n",
    "#     new_db = FAISS.load_local(\"faiss_index\", embeddings, allow_dangerous_deserialization=True)\n",
    "#     docs = new_db.similarity_search(user_question)"
   ]
  }
 ],
 "metadata": {
  "kernelspec": {
   "display_name": "Python 3 (ipykernel)",
   "language": "python",
   "name": "python3"
  },
  "language_info": {
   "codemirror_mode": {
    "name": "ipython",
    "version": 3
   },
   "file_extension": ".py",
   "mimetype": "text/x-python",
   "name": "python",
   "nbconvert_exporter": "python",
   "pygments_lexer": "ipython3",
   "version": "3.11.5"
  }
 },
 "nbformat": 4,
 "nbformat_minor": 5
}
